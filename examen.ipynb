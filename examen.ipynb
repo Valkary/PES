{
 "cells": [
  {
   "cell_type": "code",
   "execution_count": 31,
   "metadata": {},
   "outputs": [
    {
     "name": "stdout",
     "output_type": "stream",
     "text": [
      "Dom\n",
      "Fisher\n",
      "Joseph\n",
      "Arthur\n",
      "Joseph\n",
      "Dom\n",
      "Leo\n",
      "REALIDAD\n",
      "REALIDAD\n",
      "REALIDAD\n"
     ]
    }
   ],
   "source": [
    "acciones = int(input())\n",
    "lista = []\n",
    "\n",
    "for i in range(acciones):\n",
    "\taccion = input().split()\n",
    "\n",
    "\tif accion[0] == \"Durmiente\":\n",
    "\t\tlista.append(accion[1])\n",
    "\telif accion[0] == \"Shock\":\n",
    "\t\tif len(lista) > 0:\n",
    "\t\t\tlista.pop()\n",
    "\telif accion[0] == \"Escaneo\":\n",
    "\t\tif len(lista) > 0:\n",
    "\t\t\tprint(lista[-1])\n",
    "\t\telse:\n",
    "\t\t\tprint(\"REALIDAD\")"
   ]
  }
 ],
 "metadata": {
  "kernelspec": {
   "display_name": "Python 3",
   "language": "python",
   "name": "python3"
  },
  "language_info": {
   "codemirror_mode": {
    "name": "ipython",
    "version": 3
   },
   "file_extension": ".py",
   "mimetype": "text/x-python",
   "name": "python",
   "nbconvert_exporter": "python",
   "pygments_lexer": "ipython3",
   "version": "3.11.3"
  },
  "orig_nbformat": 4
 },
 "nbformat": 4,
 "nbformat_minor": 2
}
