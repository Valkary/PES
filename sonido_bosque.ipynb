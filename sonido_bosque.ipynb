{
 "cells": [
  {
   "cell_type": "code",
   "execution_count": 8,
   "metadata": {},
   "outputs": [
    {
     "name": "stdout",
     "output_type": "stream",
     "text": [
      "{'3': {'4', '3', '2'}, '1': {'2', '3'}, '2': {'2', '4'}}\n",
      "{'4': {'2', '3'}, '2': {'2', '3', '1'}, '3': {'3', '1'}}\n"
     ]
    }
   ],
   "source": [
    "mapa_opiniones = dict()\n",
    "mapa_arboles = dict()\n",
    "\n",
    "while True:\n",
    "    x = input().split()\n",
    "\n",
    "    if x[0] == \"0\":\n",
    "        break\n",
    "\n",
    "    if x[0] in mapa_opiniones:\n",
    "        mapa_opiniones[x[0]].add(x[1])\n",
    "    else:\n",
    "        mapa_opiniones[x[0]] = set(x[1])"
   ]
  }
 ],
 "metadata": {
  "kernelspec": {
   "display_name": "Python 3",
   "language": "python",
   "name": "python3"
  },
  "language_info": {
   "codemirror_mode": {
    "name": "ipython",
    "version": 3
   },
   "file_extension": ".py",
   "mimetype": "text/x-python",
   "name": "python",
   "nbconvert_exporter": "python",
   "pygments_lexer": "ipython3",
   "version": "3.11.3"
  },
  "orig_nbformat": 4
 },
 "nbformat": 4,
 "nbformat_minor": 2
}
