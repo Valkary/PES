{
 "cells": [
  {
   "cell_type": "code",
   "execution_count": 55,
   "metadata": {},
   "outputs": [
    {
     "name": "stdout",
     "output_type": "stream",
     "text": [
      "CARALIBRO 2\n",
      "LATEX TXT 1\n",
      "MYDIARIO BLOG 1\n",
      "UPINUX 0\n"
     ]
    }
   ],
   "source": [
    "equipos = {}\n",
    "curr_equipo = \"\"\n",
    "\n",
    "while True:\n",
    "    str = input()\n",
    "\n",
    "    if str == \"1\":\n",
    "        break\n",
    "    elif str.isupper():     \n",
    "        curr_equipo = str\n",
    "        equipos[curr_equipo] = set()\n",
    "    else:\n",
    "        equipos[curr_equipo].add(str)\n",
    "    \n",
    "ordenado = []\n",
    "\n",
    "for key in equipos.keys():\n",
    "    intersection = set()\n",
    "\n",
    "    for llave in equipos.keys():\n",
    "        if llave != key:\n",
    "            intersection |= set(equipos[key].intersection(equipos[llave]))\n",
    "\n",
    "    ordenado.append((key, len(equipos[key]) - len(intersection)))\n",
    "\n",
    "ordenado.sort(key=lambda x: (-x[1], x[0]))\n",
    "\n",
    "for (equipo, size) in ordenado:\n",
    "    print(f\"{equipo} {size}\")"
   ]
  }
 ],
 "metadata": {
  "kernelspec": {
   "display_name": "Python 3",
   "language": "python",
   "name": "python3"
  },
  "language_info": {
   "codemirror_mode": {
    "name": "ipython",
    "version": 3
   },
   "file_extension": ".py",
   "mimetype": "text/x-python",
   "name": "python",
   "nbconvert_exporter": "python",
   "pygments_lexer": "ipython3",
   "version": "3.11.3"
  },
  "orig_nbformat": 4
 },
 "nbformat": 4,
 "nbformat_minor": 2
}
