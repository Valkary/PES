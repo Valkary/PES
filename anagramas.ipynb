{
 "cells": [
  {
   "cell_type": "code",
   "execution_count": 3,
   "metadata": {},
   "outputs": [
    {
     "name": "stdout",
     "output_type": "stream",
     "text": [
      "e\n",
      "e\n",
      "s\n",
      "e\n",
      "s\n",
      "e\n",
      "s\n",
      "e\n",
      "s\n",
      "e\n"
     ]
    },
    {
     "ename": "IndexError",
     "evalue": "string index out of range",
     "output_type": "error",
     "traceback": [
      "\u001b[1;31m---------------------------------------------------------------------------\u001b[0m",
      "\u001b[1;31mIndexError\u001b[0m                                Traceback (most recent call last)",
      "\u001b[1;32mc:\\Users\\pepoc\\Documents\\Estructuras de Datos\\anagramas.ipynb Cell 1\u001b[0m line \u001b[0;36m1\n\u001b[0;32m      <a href='vscode-notebook-cell:/c%3A/Users/pepoc/Documents/Estructuras%20de%20Datos/anagramas.ipynb#W0sZmlsZQ%3D%3D?line=7'>8</a>\u001b[0m \u001b[39mwhile\u001b[39;00m indice_palabra2 \u001b[39m<\u001b[39m \u001b[39mlen\u001b[39m(palabras[\u001b[39m0\u001b[39m]):\n\u001b[0;32m      <a href='vscode-notebook-cell:/c%3A/Users/pepoc/Documents/Estructuras%20de%20Datos/anagramas.ipynb#W0sZmlsZQ%3D%3D?line=8'>9</a>\u001b[0m     \u001b[39mprint\u001b[39m(\u001b[39m\"\u001b[39m\u001b[39me\u001b[39m\u001b[39m\"\u001b[39m)\n\u001b[1;32m---> <a href='vscode-notebook-cell:/c%3A/Users/pepoc/Documents/Estructuras%20de%20Datos/anagramas.ipynb#W0sZmlsZQ%3D%3D?line=9'>10</a>\u001b[0m     stack\u001b[39m.\u001b[39mappend(palabra1[indice_palabra1])\n\u001b[0;32m     <a href='vscode-notebook-cell:/c%3A/Users/pepoc/Documents/Estructuras%20de%20Datos/anagramas.ipynb#W0sZmlsZQ%3D%3D?line=10'>11</a>\u001b[0m     indice_palabra1 \u001b[39m+\u001b[39m\u001b[39m=\u001b[39m \u001b[39m1\u001b[39m\n\u001b[0;32m     <a href='vscode-notebook-cell:/c%3A/Users/pepoc/Documents/Estructuras%20de%20Datos/anagramas.ipynb#W0sZmlsZQ%3D%3D?line=12'>13</a>\u001b[0m     \u001b[39mif\u001b[39;00m palabra2[indice_palabra2] \u001b[39m==\u001b[39m stack[\u001b[39m-\u001b[39m\u001b[39m1\u001b[39m]:\n",
      "\u001b[1;31mIndexError\u001b[0m: string index out of range"
     ]
    }
   ],
   "source": [
    "palabras = input().split()\n",
    "palabra1 = palabras[0]\n",
    "palabra2 = palabras[1]\n",
    "\n",
    "ruta = []\n",
    "\n",
    "\n",
    "indice_palabra1 = 0\n",
    "indice_palabra2 = 0\n",
    "\n",
    "while indice_palabra2 < len(palabra2):\n",
    "    stack.append(palabra1[indice_palabra1])\n",
    "    indice_palabra1 += 1\n",
    "\n",
    "    if palabra2[indice_palabra2] == stack[-1]:\n",
    "        print(\"s\")\n",
    "        indice_palabra2 += 1\n",
    "\n",
    "\n",
    "\n",
    "palabras"
   ]
  }
 ],
 "metadata": {
  "kernelspec": {
   "display_name": "Python 3",
   "language": "python",
   "name": "python3"
  },
  "language_info": {
   "codemirror_mode": {
    "name": "ipython",
    "version": 3
   },
   "file_extension": ".py",
   "mimetype": "text/x-python",
   "name": "python",
   "nbconvert_exporter": "python",
   "pygments_lexer": "ipython3",
   "version": "3.11.3"
  },
  "orig_nbformat": 4
 },
 "nbformat": 4,
 "nbformat_minor": 2
}
