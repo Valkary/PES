{
 "cells": [
  {
   "cell_type": "code",
   "execution_count": 3,
   "metadata": {},
   "outputs": [
    {
     "name": "stdout",
     "output_type": "stream",
     "text": [
      "Caso 1: 3\n",
      "Caso 2: 1\n",
      "Caso 3: 1\n",
      "Caso 4: 1\n",
      "Caso 5: 4\n"
     ]
    }
   ],
   "source": [
    "contador = 1\n",
    "\n",
    "while(True):\n",
    "    orden = input()\n",
    "\n",
    "    if orden == \"fin\":\n",
    "        break\n",
    "\n",
    "    stack = []\n",
    "\n",
    "    for char in orden:\n",
    "        inserted = False\n",
    "        for i, val in enumerate(stack):\n",
    "            if val >= ord(char):\n",
    "                stack[i] = ord(char)\n",
    "                inserted = True\n",
    "                break\n",
    "        \n",
    "        if not inserted:\n",
    "            stack.append(ord(char))\n",
    "\n",
    "    print(f\"Caso {contador}: {len(stack)}\")\n",
    "    contador += 1\n",
    "            \n"
   ]
  }
 ],
 "metadata": {
  "kernelspec": {
   "display_name": "Python 3",
   "language": "python",
   "name": "python3"
  },
  "language_info": {
   "codemirror_mode": {
    "name": "ipython",
    "version": 3
   },
   "file_extension": ".py",
   "mimetype": "text/x-python",
   "name": "python",
   "nbconvert_exporter": "python",
   "pygments_lexer": "ipython3",
   "version": "3.11.3"
  },
  "orig_nbformat": 4
 },
 "nbformat": 4,
 "nbformat_minor": 2
}
