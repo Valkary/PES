{
 "cells": [
  {
   "cell_type": "code",
   "execution_count": 2,
   "metadata": {},
   "outputs": [
    {
     "name": "stdout",
     "output_type": "stream",
     "text": [
      "5\n"
     ]
    }
   ],
   "source": [
    "ops = {\n",
    "  \"+\": (lambda a, b: a + b),\n",
    "  \"-\": (lambda a, b: a - b),\n",
    "  \"*\": (lambda a, b: a * b),\n",
    "  \"/\": (lambda a, b: a / b)\n",
    "}\n",
    "\n",
    "def eval(expression):\n",
    "  tokens = expression.split()\n",
    "  stack = []\n",
    "\n",
    "  for token in tokens:\n",
    "    if token in ops:\n",
    "      arg2 = stack.pop()\n",
    "      arg1 = stack.pop()\n",
    "      result = ops[token](arg1, arg2)\n",
    "      stack.append(result)\n",
    "    else:\n",
    "      stack.append(int(token))\n",
    "\n",
    "  return stack.pop()\n",
    "\n",
    "print(eval(input()))\n"
   ]
  }
 ],
 "metadata": {
  "kernelspec": {
   "display_name": "Python 3",
   "language": "python",
   "name": "python3"
  },
  "language_info": {
   "codemirror_mode": {
    "name": "ipython",
    "version": 3
   },
   "file_extension": ".py",
   "mimetype": "text/x-python",
   "name": "python",
   "nbconvert_exporter": "python",
   "pygments_lexer": "ipython3",
   "version": "3.11.3"
  },
  "orig_nbformat": 4
 },
 "nbformat": 4,
 "nbformat_minor": 2
}
