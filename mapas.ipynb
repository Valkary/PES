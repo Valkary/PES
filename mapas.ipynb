{
 "cells": [
  {
   "cell_type": "code",
   "execution_count": 1,
   "metadata": {},
   "outputs": [
    {
     "name": "stdout",
     "output_type": "stream",
     "text": [
      "\n"
     ]
    }
   ],
   "source": [
    "palabras = input().lower().split()\n",
    "\n",
    "lemario = set()\n",
    "\n",
    "file = open(\"lemario.txt\", encoding=\"utf8\")\n",
    "\n",
    "with file:\n",
    "    lines = file.readlines()\n",
    "\n",
    "    for line in lines:\n",
    "        lemario.add(line.rstrip(\"\\n\"))\n",
    "\n",
    "def crearConjunto(palabra):\n",
    "    mapa = set()\n",
    "\n",
    "    # Permutacion\n",
    "    for i in range(0, len(palabra)-1):\n",
    "        letras = list(palabra)\n",
    "        letras[i], letras[i+1] = letras[i+1], letras[i]\n",
    "        mapa.add(''.join(letras))\n",
    "\n",
    "    # Eliminacion de letra\n",
    "    for i in range(len(palabra)):\n",
    "        variacion = palabra[:i] + palabra[i+1:]\n",
    "        mapa.add(variacion)\n",
    "\n",
    "    # Agregar letra\n",
    "    for letra in 'aábcdeéfghiíjklmnñoópqrstuúvwxyz':\n",
    "        for i in range(len(palabra)+1):\n",
    "            variacion = palabra[:i] + letra + palabra[i:]\n",
    "            mapa.add(variacion)\n",
    "\n",
    "    # Sustituir letra\n",
    "    for letra in 'aábcdeéfghiíjklmnñoópqrstuúvwxyz':\n",
    "        for i in range(len(palabra)+1):\n",
    "            variacion = palabra[:i] + letra + palabra[i+1:]\n",
    "            mapa.add(variacion)\n",
    "\n",
    "    return mapa\n",
    "\n",
    "for i in range(len(palabras)):\n",
    "    # Checar si existe en el lemario\n",
    "    if palabras[i] in lemario:\n",
    "        continue\n",
    "\n",
    "    opciones = list(crearConjunto(palabras[i]).intersection(lemario))\n",
    "\n",
    "    print(f\"{palabras[i]} no existe, escoge una de las opciones\")\n",
    "    print(f\"0. {palabras[i]}\")\n",
    "\n",
    "    for id, opcion in enumerate(opciones):\n",
    "        print(f\"{id + 1}. {opcion}\")\n",
    "\n",
    "    x = int(input())\n",
    "\n",
    "    if x != 0:\n",
    "        palabras[i] = opciones[x-1]\n",
    "\n",
    "\n",
    "print(' '.join(palabras))"
   ]
  }
 ],
 "metadata": {
  "kernelspec": {
   "display_name": "Python 3",
   "language": "python",
   "name": "python3"
  },
  "language_info": {
   "codemirror_mode": {
    "name": "ipython",
    "version": 3
   },
   "file_extension": ".py",
   "mimetype": "text/x-python",
   "name": "python",
   "nbconvert_exporter": "python",
   "pygments_lexer": "ipython3",
   "version": "3.11.3"
  },
  "orig_nbformat": 4
 },
 "nbformat": 4,
 "nbformat_minor": 2
}
