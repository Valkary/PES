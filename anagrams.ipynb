{
 "cells": [
  {
   "cell_type": "code",
   "execution_count": 40,
   "metadata": {},
   "outputs": [
    {
     "name": "stdout",
     "output_type": "stream",
     "text": [
      "e e e e s s s e s s\n",
      "e e e e s s s s e s\n",
      "e e s e s e s e s s\n",
      "e e s e s e s s e s\n"
     ]
    }
   ],
   "source": [
    "result: list[str] = []\n",
    "\n",
    "def divideAndConquer(str1: str, str2: str, steps: str = '', stack: list[str] = []) -> None:\n",
    "    if len(str1) == 0 and len(str2) == 0:\n",
    "        result.append(steps)\n",
    "    else:\n",
    "        if str1:\n",
    "            divideAndConquer(str1[1:], str2, steps + 'e ', stack + [str1[0]])\n",
    "        \n",
    "        if len(stack) > 0 and stack[-1] == str2[0]:\n",
    "            divideAndConquer(str1, str2[1:], steps + 's ', stack[:-1])\n",
    "\n",
    "w1 = input()\n",
    "w2 = input()\n",
    "\n",
    "divideAndConquer(w1, w2)\n",
    "\n",
    "for steps in sorted(result):\n",
    "    print(steps.strip())\n"
   ]
  }
 ],
 "metadata": {
  "kernelspec": {
   "display_name": "Python 3",
   "language": "python",
   "name": "python3"
  },
  "language_info": {
   "codemirror_mode": {
    "name": "ipython",
    "version": 3
   },
   "file_extension": ".py",
   "mimetype": "text/x-python",
   "name": "python",
   "nbconvert_exporter": "python",
   "pygments_lexer": "ipython3",
   "version": "3.11.3"
  },
  "orig_nbformat": 4
 },
 "nbformat": 4,
 "nbformat_minor": 2
}
