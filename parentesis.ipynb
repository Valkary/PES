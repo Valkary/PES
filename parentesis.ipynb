{
 "cells": [
  {
   "cell_type": "code",
   "execution_count": 18,
   "metadata": {},
   "outputs": [
    {
     "name": "stdout",
     "output_type": "stream",
     "text": [
      "Error en 14\n"
     ]
    }
   ],
   "source": [
    "class Queue:\n",
    "    def __init__(self):\n",
    "        self.data = []\n",
    "        self.idx = 0\n",
    "        self.last_paren = None\n",
    "        \n",
    "        self.closing_parens = {\n",
    "            \")\": \"(\",\n",
    "            \"}\": \"{\",\n",
    "            \"]\": \"[\",\n",
    "            \">\": \"<\"\n",
    "        }\n",
    "\n",
    "        self.opening_parens = {\n",
    "            \"(\": \")\",\n",
    "            \"{\": \"}\",\n",
    "            \"[\": \"]\",\n",
    "            \"<\": \">\"\n",
    "        }\n",
    "\n",
    "    def push(self, paren):\n",
    "        self.data.append(paren)\n",
    "        self.idx += 1\n",
    "\n",
    "    def pop(self):\n",
    "        if self.idx <= 0:\n",
    "            return\n",
    "        self.idx -= 1\n",
    "        return self.data.pop()\n",
    "\n",
    "    def top(self):\n",
    "        if (self.idx == 0):\n",
    "            return \"Error\"\n",
    "        return self.data[self.idx - 1]\n",
    "\n",
    "    def isValid(self):\n",
    "        str = input()\n",
    "        for i in range(len(str)):\n",
    "            if (str[i] in self.opening_parens):\n",
    "                self.push(str[i])\n",
    "                self.last_paren = i\n",
    "            elif (str[i] in self.closing_parens and self.top() == self.closing_parens[str[i]]):\n",
    "                self.pop()\n",
    "            elif (str[i] in self.closing_parens and self.top() != self.closing_parens[str[i]]):\n",
    "                return print(f\"Error en {i}\")\n",
    "        \n",
    "        if (len(self.data) > 0):\n",
    "            return print(f\"Error en {self.last_paren}\")\n",
    "        \n",
    "        return print(\"Balanceada\")\n",
    "\n",
    "q = Queue()\n",
    "q.isValid()\n"
   ]
  }
 ],
 "metadata": {
  "kernelspec": {
   "display_name": "Python 3",
   "language": "python",
   "name": "python3"
  },
  "language_info": {
   "codemirror_mode": {
    "name": "ipython",
    "version": 3
   },
   "file_extension": ".py",
   "mimetype": "text/x-python",
   "name": "python",
   "nbconvert_exporter": "python",
   "pygments_lexer": "ipython3",
   "version": "3.11.3"
  },
  "orig_nbformat": 4
 },
 "nbformat": 4,
 "nbformat_minor": 2
}
