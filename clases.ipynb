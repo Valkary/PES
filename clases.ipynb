{
 "cells": [
  {
   "cell_type": "code",
   "execution_count": 23,
   "metadata": {},
   "outputs": [
    {
     "data": {
      "text/plain": [
       "[0, 0, 0, 0, 0, 0, 0, 0, 0, 0]"
      ]
     },
     "execution_count": 23,
     "metadata": {},
     "output_type": "execute_result"
    }
   ],
   "source": [
    "class Pila:\n",
    "    def __init__(self):\n",
    "        self.size = 0\n",
    "        self.capacity = 10\n",
    "        self.data = [0] * self.capacity\n",
    "\n",
    "    def push(self, data):\n",
    "        self.data[self.size] = data\n",
    "        self.size += 1\n",
    "\n",
    "    def pop(self):\n",
    "        self.size -= 1\n",
    "        return self.data[self.size]\n",
    "\n",
    "\n",
    "c1 = Pila()\n",
    "\n",
    "c1.data"
   ]
  },
  {
   "cell_type": "code",
   "execution_count": 24,
   "metadata": {},
   "outputs": [],
   "source": [
    "c1.push(\"a\")\n",
    "c1.push(\"b\")\n",
    "c1.push(\"c\")"
   ]
  },
  {
   "cell_type": "code",
   "execution_count": 25,
   "metadata": {},
   "outputs": [
    {
     "name": "stdout",
     "output_type": "stream",
     "text": [
      "['a', 'b', 'c', 0, 0, 0, 0, 0, 0, 0] 3\n",
      "c\n",
      "['a', 'b', 'd', 0, 0, 0, 0, 0, 0, 0] 3\n"
     ]
    }
   ],
   "source": [
    "print(c1.data, c1.size)\n",
    "print(c1.pop())\n",
    "c1.push(\"d\")\n",
    "print(c1.data, c1.size)"
   ]
  }
 ],
 "metadata": {
  "kernelspec": {
   "display_name": "Python 3",
   "language": "python",
   "name": "python3"
  },
  "language_info": {
   "codemirror_mode": {
    "name": "ipython",
    "version": 3
   },
   "file_extension": ".py",
   "mimetype": "text/x-python",
   "name": "python",
   "nbconvert_exporter": "python",
   "pygments_lexer": "ipython3",
   "version": "3.11.3"
  },
  "orig_nbformat": 4
 },
 "nbformat": 4,
 "nbformat_minor": 2
}
