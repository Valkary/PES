{
 "cells": [
  {
   "cell_type": "code",
   "execution_count": 83,
   "metadata": {},
   "outputs": [],
   "source": [
    "from math import ceil\n",
    "\n",
    "n = 100_000\n",
    "limit = ceil(n**.5)\n",
    "\n",
    "criba = [True] * (n + 1)\n",
    "\n",
    "criba[0] = False\n",
    "criba[1] = False\n",
    "\n",
    "for p in range(2, limit+1):\n",
    "    if criba[p]:\n",
    "        for i in range(p+p, n, p):\n",
    "            criba[i] = False\n",
    "\n",
    "# out = \"\"\n",
    "\n",
    "# for i in range(n//10):\n",
    "#     line = \"\"\n",
    "#     for j in range(10):\n",
    "#         if criba[i*10 + j]:\n",
    "#             line += \"0 \"\n",
    "#         else:\n",
    "#             line += \"1 \"\n",
    "\n",
    "#     out +=  line.strip() + \"\\n\"\n",
    "\n",
    "# print(out)"
   ]
  },
  {
   "cell_type": "code",
   "execution_count": 84,
   "metadata": {},
   "outputs": [
    {
     "name": "stdout",
     "output_type": "stream",
     "text": [
      "SI\n"
     ]
    }
   ],
   "source": [
    "num = int(input())\n",
    "\n",
    "if criba[num]:\n",
    "    print(\"SI\")\n",
    "else:\n",
    "    print(\"NO\")"
   ]
  }
 ],
 "metadata": {
  "kernelspec": {
   "display_name": "Python 3",
   "language": "python",
   "name": "python3"
  },
  "language_info": {
   "codemirror_mode": {
    "name": "ipython",
    "version": 3
   },
   "file_extension": ".py",
   "mimetype": "text/x-python",
   "name": "python",
   "nbconvert_exporter": "python",
   "pygments_lexer": "ipython3",
   "version": "3.11.3"
  },
  "orig_nbformat": 4
 },
 "nbformat": 4,
 "nbformat_minor": 2
}
