{
 "cells": [
  {
   "cell_type": "code",
   "execution_count": 3,
   "metadata": {},
   "outputs": [
    {
     "name": "stdout",
     "output_type": "stream",
     "text": [
      "Caso 0: HECHO\n",
      "Caso 1: POSIBLE PERO TARDE\n"
     ]
    },
    {
     "ename": "KeyError",
     "evalue": "'calculo'",
     "output_type": "error",
     "traceback": [
      "\u001b[1;31m---------------------------------------------------------------------------\u001b[0m",
      "\u001b[1;31mKeyError\u001b[0m                                  Traceback (most recent call last)",
      "\u001b[1;32mc:\\Users\\pepoc\\Documents\\Estructuras de Datos\\armando.ipynb Cell 1\u001b[0m line \u001b[0;36m1\n\u001b[0;32m     <a href='vscode-notebook-cell:/c%3A/Users/pepoc/Documents/Estructuras%20de%20Datos/armando.ipynb#W0sZmlsZQ%3D%3D?line=12'>13</a>\u001b[0m habiles \u001b[39m=\u001b[39m \u001b[39mint\u001b[39m(\u001b[39minput\u001b[39m())\n\u001b[0;32m     <a href='vscode-notebook-cell:/c%3A/Users/pepoc/Documents/Estructuras%20de%20Datos/armando.ipynb#W0sZmlsZQ%3D%3D?line=13'>14</a>\u001b[0m materia \u001b[39m=\u001b[39m \u001b[39minput\u001b[39m()\n\u001b[1;32m---> <a href='vscode-notebook-cell:/c%3A/Users/pepoc/Documents/Estructuras%20de%20Datos/armando.ipynb#W0sZmlsZQ%3D%3D?line=15'>16</a>\u001b[0m \u001b[39mif\u001b[39;00m mat_dict[materia] \u001b[39m<\u001b[39m\u001b[39m=\u001b[39m habiles:\n\u001b[0;32m     <a href='vscode-notebook-cell:/c%3A/Users/pepoc/Documents/Estructuras%20de%20Datos/armando.ipynb#W0sZmlsZQ%3D%3D?line=16'>17</a>\u001b[0m     \u001b[39mprint\u001b[39m(\u001b[39mf\u001b[39m\u001b[39m\"\u001b[39m\u001b[39mCaso \u001b[39m\u001b[39m{\u001b[39;00mi\u001b[39m}\u001b[39;00m\u001b[39m: HECHO\u001b[39m\u001b[39m\"\u001b[39m)\n\u001b[0;32m     <a href='vscode-notebook-cell:/c%3A/Users/pepoc/Documents/Estructuras%20de%20Datos/armando.ipynb#W0sZmlsZQ%3D%3D?line=17'>18</a>\u001b[0m \u001b[39melif\u001b[39;00m mat_dict[materia] \u001b[39m<\u001b[39m\u001b[39m=\u001b[39m habiles \u001b[39m+\u001b[39m \u001b[39m5\u001b[39m:\n",
      "\u001b[1;31mKeyError\u001b[0m: 'calculo'"
     ]
    }
   ],
   "source": [
    "casos = int(input())\n",
    "\n",
    "for i in range(casos):\n",
    "    n_materias = int(input())\n",
    "    mat_dict = dict()\n",
    "\n",
    "    for j in range(n_materias):\n",
    "        (nombre, dias) = input().split()\n",
    "\n",
    "        dias = int(dias)\n",
    "        mat_dict[nombre] = dias\n",
    "\n",
    "    habiles = int(input())\n",
    "    materia = input()\n",
    "\n",
    "    if materia in mat_dict:\n",
    "        if mat_dict[materia] <= habiles:\n",
    "            print(f\"Caso {i+1}: HECHO\")\n",
    "        elif mat_dict[materia] <= habiles + 5:\n",
    "            print(f\"Caso {i+1}: POSIBLE PERO TARDE\")\n",
    "        else:\n",
    "            print(f\"Caso {i+1}: MEJOR ARMANDO LA HACE\")\n",
    "    else: \n",
    "        print(f\"Caso {i+1}: MEJOR ARMANDO LA HACE\")"
   ]
  }
 ],
 "metadata": {
  "kernelspec": {
   "display_name": "Python 3",
   "language": "python",
   "name": "python3"
  },
  "language_info": {
   "codemirror_mode": {
    "name": "ipython",
    "version": 3
   },
   "file_extension": ".py",
   "mimetype": "text/x-python",
   "name": "python",
   "nbconvert_exporter": "python",
   "pygments_lexer": "ipython3",
   "version": "3.11.3"
  },
  "orig_nbformat": 4
 },
 "nbformat": 4,
 "nbformat_minor": 2
}
